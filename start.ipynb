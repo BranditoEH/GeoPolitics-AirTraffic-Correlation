{
 "cells": [
  {
   "cell_type": "code",
   "execution_count": 7,
   "metadata": {},
   "outputs": [
    {
     "name": "stdout",
     "output_type": "stream",
     "text": [
      "Note: you may need to restart the kernel to use updated packages.\n"
     ]
    },
    {
     "name": "stderr",
     "output_type": "stream",
     "text": [
      "ERROR: daimil10/cap_stone/cap_2/GeoPolitics-AirTraffic-Correlation is not a valid editable requirement. It should either be a path to a local project or a VCS URL (beginning with bzr+http, bzr+https, bzr+ssh, bzr+sftp, bzr+ftp, bzr+lp, bzr+file, git+http, git+https, git+ssh, git+git, git+file, hg+file, hg+http, hg+https, hg+ssh, hg+static-http, svn+ssh, svn+http, svn+https, svn+svn, svn+file).\n"
     ]
    }
   ],
   "source": [
    "pip install -e daimil10/cap_stone/cap_2/GeoPolitics-AirTraffic-Correlation"
   ]
  },
  {
   "cell_type": "code",
   "execution_count": 3,
   "metadata": {},
   "outputs": [
    {
     "name": "stdout",
     "output_type": "stream",
     "text": [
      "Note: you may need to restart the kernel to use updated packages.\n"
     ]
    },
    {
     "name": "stderr",
     "output_type": "stream",
     "text": [
      "ERROR: Could not find a version that satisfies the requirement opensky_api (from versions: none)\n",
      "ERROR: No matching distribution found for opensky_api\n"
     ]
    }
   ],
   "source": [
    "pip install opensky_api\n"
   ]
  },
  {
   "cell_type": "code",
   "execution_count": 1,
   "metadata": {},
   "outputs": [
    {
     "name": "stdout",
     "output_type": "stream",
     "text": [
      "Note: you may need to restart the kernel to use updated packages.\n"
     ]
    },
    {
     "name": "stderr",
     "output_type": "stream",
     "text": [
      "WARNING: Package(s) not found: opensky_api\n"
     ]
    }
   ],
   "source": [
    "pip show opensky_api\n"
   ]
  },
  {
   "cell_type": "code",
   "execution_count": 6,
   "metadata": {},
   "outputs": [
    {
     "name": "stdout",
     "output_type": "stream",
     "text": [
      "Collecting git+https://github.com/BranditoEH/GeoPolitics-AirTraffic-Correlation\n",
      "  Cloning https://github.com/BranditoEH/GeoPolitics-AirTraffic-Correlation to c:\\users\\brandon h\\appdata\\local\\temp\\pip-req-build-0wqtphh9\n",
      "  Resolved https://github.com/BranditoEH/GeoPolitics-AirTraffic-Correlation to commit 8c7e5fd8c10c4925d20fa228bf6bd1783a5199cf\n",
      "Note: you may need to restart the kernel to use updated packages.\n"
     ]
    },
    {
     "name": "stderr",
     "output_type": "stream",
     "text": [
      "  Running command git clone --filter=blob:none --quiet https://github.com/BranditoEH/GeoPolitics-AirTraffic-Correlation 'C:\\Users\\Brandon H\\AppData\\Local\\Temp\\pip-req-build-0wqtphh9'\n",
      "ERROR: git+https://github.com/BranditoEH/GeoPolitics-AirTraffic-Correlation does not appear to be a Python project: neither 'setup.py' nor 'pyproject.toml' found.\n"
     ]
    }
   ],
   "source": [
    "pip install git+https://github.com/BranditoEH/GeoPolitics-AirTraffic-Correlation\n"
   ]
  },
  {
   "cell_type": "code",
   "execution_count": 5,
   "metadata": {},
   "outputs": [
    {
     "ename": "ModuleNotFoundError",
     "evalue": "No module named 'opensky_api'",
     "output_type": "error",
     "traceback": [
      "\u001b[1;31m---------------------------------------------------------------------------\u001b[0m",
      "\u001b[1;31mModuleNotFoundError\u001b[0m                       Traceback (most recent call last)",
      "\u001b[1;32mc:\\Users\\Brandon H\\Documents\\daimil10\\cap_stone\\cap_2\\GeoPolitics-AirTraffic-Correlation\\start.ipynb Cell 4\u001b[0m line \u001b[0;36m1\n\u001b[1;32m----> <a href='vscode-notebook-cell:/c%3A/Users/Brandon%20H/Documents/daimil10/cap_stone/cap_2/GeoPolitics-AirTraffic-Correlation/start.ipynb#W0sZmlsZQ%3D%3D?line=0'>1</a>\u001b[0m \u001b[39mfrom\u001b[39;00m \u001b[39mopensky_api\u001b[39;00m \u001b[39mimport\u001b[39;00m OpenSkyApi\n\u001b[0;32m      <a href='vscode-notebook-cell:/c%3A/Users/Brandon%20H/Documents/daimil10/cap_stone/cap_2/GeoPolitics-AirTraffic-Correlation/start.ipynb#W0sZmlsZQ%3D%3D?line=2'>3</a>\u001b[0m \u001b[39m# Create an instance of the API\u001b[39;00m\n\u001b[0;32m      <a href='vscode-notebook-cell:/c%3A/Users/Brandon%20H/Documents/daimil10/cap_stone/cap_2/GeoPolitics-AirTraffic-Correlation/start.ipynb#W0sZmlsZQ%3D%3D?line=3'>4</a>\u001b[0m api \u001b[39m=\u001b[39m OpenSkyApi()\n",
      "\u001b[1;31mModuleNotFoundError\u001b[0m: No module named 'opensky_api'"
     ]
    }
   ],
   "source": [
    "from opensky_api import OpenSkyApi\n",
    "\n",
    "# Create an instance of the API\n",
    "api = OpenSkyApi()\n",
    "\n",
    "# Get the current states of aircraft\n",
    "states = api.get_states()\n",
    "\n",
    "# Print the retrieved states data\n",
    "print(states)\n"
   ]
  }
 ],
 "metadata": {
  "kernelspec": {
   "display_name": "traffic",
   "language": "python",
   "name": "python3"
  },
  "language_info": {
   "codemirror_mode": {
    "name": "ipython",
    "version": 3
   },
   "file_extension": ".py",
   "mimetype": "text/x-python",
   "name": "python",
   "nbconvert_exporter": "python",
   "pygments_lexer": "ipython3",
   "version": "3.10.13"
  }
 },
 "nbformat": 4,
 "nbformat_minor": 2
}
